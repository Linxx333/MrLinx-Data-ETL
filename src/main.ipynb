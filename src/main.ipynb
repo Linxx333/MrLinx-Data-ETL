{
 "cells": [
  {
   "cell_type": "code",
   "execution_count": 23,
   "metadata": {},
   "outputs": [],
   "source": [
    "import pandas as pd\n",
    "import numpy as np\n",
    "import mysql.connector as conn\n",
    "import functions as f\n",
    "from sqlalchemy import create_engine\n",
    "#import multiprocessing as mp\n",
    "#from joblib import Parallel, delayed"
   ]
  },
  {
   "cell_type": "code",
   "execution_count": 24,
   "metadata": {},
   "outputs": [],
   "source": [
    "#paralelo = Parallel(n_jobs=10, verbose=True) "
   ]
  },
  {
   "cell_type": "code",
   "execution_count": 25,
   "metadata": {},
   "outputs": [],
   "source": [
    "urls = ['https://gol.gg/teams/list/season-ALL/split-ALL/tournament-SuperLiga%20Spring%202023/',\n",
    "        'https://gol.gg/teams/list/season-ALL/split-ALL/tournament-LVP%20SL%20Summer%202022/',       \n",
    "        'https://gol.gg/teams/list/season-ALL/split-ALL/tournament-LVP%20SL%20Spring%202022/',\n",
    "        'https://gol.gg/teams/list/season-ALL/split-ALL/tournament-LVP%20SL%20Summer%202021/',\n",
    "        'https://gol.gg/teams/list/season-ALL/split-ALL/tournament-LVP%20Superliga%20Spring%202021/',\n",
    "        'https://gol.gg/teams/list/season-ALL/split-ALL/tournament-LVP%20SLO%20Summer%202020/',\n",
    "        'https://gol.gg/teams/list/season-ALL/split-ALL/tournament-LVP%20SLO%20Spring%202020/',\n",
    "        'https://gol.gg/teams/list/season-ALL/split-ALL/tournament-LVP%20SLO%20Summer%202019/',\n",
    "        'https://gol.gg/teams/list/season-ALL/split-ALL/tournament-LVP%20SLO%20Spring%202019/',\n",
    "        'https://gol.gg/teams/list/season-ALL/split-ALL/tournament-LVP%20Summer%202018/',\n",
    "        'https://gol.gg/teams/list/season-ALL/split-ALL/tournament-LVP%20Spring%202018/']\n",
    "\n",
    "time = 'Spring'\n",
    "future_time= 'Summer'\n",
    "last_time = 'Summer'\n",
    "year = 2023\n",
    "contador = 1\n",
    "\n",
    "superliga = pd.DataFrame()"
   ]
  },
  {
   "cell_type": "code",
   "execution_count": 26,
   "metadata": {},
   "outputs": [
    {
     "name": "stdout",
     "output_type": "stream",
     "text": [
      "['Barça eSports', '2023 Spring', 'Players', 'Whiteknight', 'Hadess', 'Sajator', 'Deadly', 'Efias']\n",
      "['BISONS ECLUB', '2023 Spring', 'Players', 'Myrwn', 'D4nKa', 'Random', 'Legolas', 'Oscure']\n",
      "['Fnatic TQ', '2023 Spring', 'Players', 'Sven', 'Rabble', 'Nafkelah', 'Bean', 'Rhuckz', 'Oscarinin', 'Advienne']\n",
      "['Giants', '2023 Spring', 'Players', 'Scarface', 'Alby', 'Decay', 'Attila', 'Stend']\n",
      "['Guasones', '2023 Spring', 'Players', 'Dreedy', 'Akre', 'Hydra', 'Nash1c', 'Mystiques', 'odi11', 'Nio']\n",
      "['Heretics Academy', '2023 Spring', 'Players', 'iBo', 'bluerzor', 'Zwyroo', 'Flakked', 'marlon']\n",
      "['KOI Academy', '2023 Spring', 'Players', 'Sinmivak', 'Koldo', 'Baca', 'Lucker', 'Seaz']\n",
      "['Movistar Riders', '2023 Spring', 'Players', 'Marky', 'Isma', 'Fresskowy', 'Supa', 'Alvaro']\n",
      "['Rebels Gaming', '2023 Spring', 'Players', 'R4VEN', 'AHaHaCiK', 'Xico', 'Rayito', 'Obstinatus', 'Gadget']\n",
      "['UCAM Tokiers', '2023 Spring', 'Players', 'Doxy', 'Mart', 'Hatrixx', 'Rafitta', 'Kadir']\n",
      "['Barça eSports', '2022 Summer', 'Players', 'Dreedy', 'Hadess', 'twohoyrz', 'Deadly', 'Efias']\n",
      "['BISONS ECLUB', '2022 Summer', 'Players', 'Myrwn', 'Alby', 'Random', 'Guubi', 'Oscure', 'Oscure', 'Guubi']\n",
      "['Fnatic TQ', '2022 Summer', 'Players', 'Oscarinin', 'Maxi', 'Baca', 'Bean', 'Rhuckz']\n",
      "['G2 Arctic', '2022 Summer', 'Players', 'Color', 'Alexx', 'Fresskowy', 'Supa', 'Alvaro', 'Alvaro', 'Supa']\n",
      "['Giants', '2022 Summer', 'Players', 'Th3Antonio', 'Maxlore', 'Jiizuke', 'Keduii', 'Advienne']\n",
      "['KOI', '2022 Summer', 'Players', 'Whiteknight', 'Koldo', 'Xico', 'Rafitta', 'Seaz']\n",
      "['MAD Lions Madrid', '2022 Summer', 'Players', 'Gaethan', 'TynX', 'Knighter', 'jinjo', 'Tore', 'Tore', 'jinjo']\n",
      "['Movistar Riders', '2022 Summer', 'Players', 'Marky', 'Kadir', 'xKenzuke', 'Tazaku', 'Pyrka', 'Pyrka', 'Tazaku']\n",
      "['Team Heretics', '2022 Summer', 'Players', 'iBo', 'bluerzor', 'Zwyroo', 'Jackspektra', 'whiteinn', 'whiteinn', 'Jackspektra']\n",
      "['UCAM Tokiers', '2022 Summer', 'Players', 'Doxy', 'Thayger', 'Hatrixx', 'Zamulek', 'DuaLL', 'Nji', 'Rewound']\n",
      "['Barça eSports', '2022 Spring', 'Players', 'Dreedy', 'LeBron', 'twohoyrz', 'Deadly', 'Lucky']\n",
      "['BISONS ECLUB', '2022 Spring', 'Players', 'Myrwn', 'Alby', 'Random', 'Guubi', 'Oscure', 'Random', 'Myrwn', 'Oscure', 'Guubi']\n",
      "['Fnatic TQ', '2022 Spring', 'Players', 'Oscarinin', 'Maxi', 'Baca', 'Bean', 'Rhuckz']\n",
      "['G2 Arctic', '2022 Spring', 'Players', 'Color', 'Alexx', 'Fresskowy', 'Supa', 'Efias']\n",
      "['Giants', '2022 Spring', 'Players', 'Th3Antonio', 'Maxlore', 'Milica', 'Attila', 'Stend']\n",
      "['KOI', '2022 Spring', 'Players', 'SLT', 'Koldo', 'Hatrixx', 'Rafitta', 'Seaz']\n",
      "['MAD Lions Madrid', '2022 Spring', 'Players', 'Gaethan', 'Hadess', 'Knighter', 'DenVoksne', 'Tore', 'Lilipp']\n",
      "['Movistar Riders', '2022 Spring', 'Players', 'Marky', 'Kadir', 'xKenzuke', 'Tazaku', 'Pyrka']\n",
      "['Team Heretics', '2022 Spring', 'Players', 'Satorius', 'bluerzor', 'Zwyroo', 'Jackspektra', 'whiteinn']\n",
      "['UCAM Tokiers', '2022 Spring', 'Players', 'Rubi0o', 'Nji', 'Xaky', 'Afm', 'Homi', 'Boukada']\n",
      "['BCN Squad', '2021 Summer', 'Players', 'klowny', 'Spooky', 'Silk', 'Ace0', 'Viketox', 'Vzz']\n",
      "['Cream Real Betis', '2021 Summer', 'Players', 'Rubi0o', 'LeBron', 'Phlaty', 'Jackspektra', 'whiteinn', 'whiteinn', 'Jackspektra']\n",
      "['eMonkeyz', '2021 Summer', 'Players', 'Nille', 'Nyx', 'Javier', 'Nata', 'Fendras']\n",
      "['G2 Arctic', '2021 Summer', 'Players', 'Oscarinin', 'Koldo', 'Fresskowy', 'Supa', 'Efias', 'Efias', 'Supa']\n",
      "['MAD Lions Madrid', '2021 Summer', 'Players', 'Kackos', 'Alexx', 'Knighter', 'Flakked', 'Tore']\n",
      "['Movistar Riders', '2021 Summer', 'Players', 'Marky', 'Maxlore', 'xKenzuke', 'Venzer', 'DuaLL']\n",
      "['S2V Esports', '2021 Summer', 'Players', 'robocop', 'behave', 'Random', 'Nixerino', 'Rufus']\n",
      "['Team Queso', '2021 Summer', 'Players', 'Send0o', 'DahVys', 'Siler', 'Javaaa', 'Oscure']\n",
      "['UCAM Esports Club', '2021 Summer', 'Players', 'Dreedy', 'Hadess', 'Baca', 'Rafitta', 'Hantera', 'Plasma', 'Wannabe']\n",
      "['Vodafone Giants.Spain', '2021 Summer', 'Players', 'Th3Antonio', '113', 'Miniduke', 'Attila', 'KaSing']\n",
      "['BCN Squad', '2021 Spring', 'Players', 'IceBreaker', 'WidowMaker', 'Tonerre', 'Jackspektra', 'Viketox', 'Simpy', 'Simpy', 'Jackspektra']\n",
      "['Cream Real Betis', '2021 Spring', 'Players', 'Rubi0o', 'LeBron', 'Miniduke', 'Namex', 'whiteinn']\n",
      "['eMonkeyz', '2021 Spring', 'Players', 'robocop', 'Nyx', 'Javier', 'Nata', 'Fendras']\n",
      "['G2 Arctic', '2021 Spring', 'Players', 'Oscarinin', 'Koldo', 'Fresskowy', 'Efias', 'Supa', 'Supa', 'Efias']\n",
      "['MAD Lions Madrid', '2021 Spring', 'Players', 'Sacre', 'Alexx', 'Knighter', 'Flakked', 'DuaLL', 'Aesenar']\n",
      "['Movistar Riders', '2021 Spring', 'Players', 'Marky', 'Maxlore', 'xKenzuke', 'KaSing', 'Rayito', 'Rayito', 'KaSing']\n",
      "['S2V Esports', '2021 Spring', 'Players', 'Jervo', 'Sawyor', 'Special', 'Nixerino', 'Jaeger', 'Jaeger', 'Gavan', 'Homi', 'Homi', 'Nixerino']\n",
      "['Team Queso', '2021 Spring', 'Players', 'Send0o', 'DahVys', 'Siler', 'Javaaa', 'Oscure', 'Oscure', 'Karakal Jr', 'Javaaa']\n",
      "['UCAM Esports Club', '2021 Spring', 'Players', 'Dreedy', 'Hadess', 'Baca', 'Rafitta', 'Plasma']\n",
      "['Vodafone Giants.Spain', '2021 Spring', 'Players', 'Th3Antonio', 'Nji', 'Ronaldo', 'Attila', 'kamilius', 'Eckas', 'kamilius', 'Attila']\n",
      "['BCN Squad', '2020 Summer', 'Players', 'Rubi0o', 'Speedy', 'Miniduke', 'Keduii', 'whiteinn', 'R4VEN', 'Kadir', 'Roison', 'Rayito', 'Aizhon']\n",
      "['Cream Real Betis', '2020 Summer', 'Players', 'Kackos', 'DahVys', 'Siler', 'Adryh', 'DuaLL']\n",
      "['eMonkeyz', '2020 Summer', 'Players', 'robocop', 'Sharp', 'Jester', 'Nash1c', 'Fendras', 'Chapapi']\n",
      "['G2 Arctic', '2020 Summer', 'Players', 'Oscarinin', 'Nasser', 'FeeNiixZ', 'Supa', 'Aesenar']\n",
      "['MAD Lions Madrid', '2020 Summer', 'Players', 'kaylem', 'Koldo', 'Peng', 'Flakked', 'Prime', 'Orome', 'Prime', 'Flakked']\n",
      "['Movistar Riders', '2020 Summer', 'Players', 'Javaaa', 'Xico', 'Elyoya', 'Beansu', 'Rhuckz', 'Beansu', 'Elyoya', 'Xico', 'Javaaa']\n",
      "['S2V Esports', '2020 Summer', 'Players', 'Jaeger', 'Nyx', 'Lvsyan', 'Nixerino', 'Homi', 'Duduuu']\n",
      "['Team Queso', '2020 Summer', 'Players', 'R4VEN', 'Kadir', 'Roison', 'Rayito', 'Aizhon', 'Rubi0o', 'Speedy', 'Miniduke', 'Aizhon', 'Keduii', 'Rayito', 'whiteinn']\n",
      "['UCAM Esports Club', '2020 Summer', 'Players', 'Aziado', 'Markoon', 'Baca', 'Rafitta', 'Plasma', 'Plasma', 'Rafitta']\n",
      "['Vodafone Giants', '2020 Summer', 'Players', 'Th3Antonio', 'Lamabear', 'Pretty', 'Attila', 'Erdote']\n",
      "['BCN Squad', '2020 Spring', 'Players', 'Wardain', 'Viking', 'Backlund', 'Nixerino', 'Homi', 'Rubi0o', 'Rulfchen', 'Zwyroo']\n",
      "['eMonkeyz', '2020 Spring', 'Players', 'Kubu', 'Carbono', 'Universe', 'RNATION', 'Xixauxas', 'DoubleAiM', 'Freshx', 'Tirex', 'PainN']\n",
      "['G2 Arctic', '2020 Spring', 'Players', 'Oscarinin', 'Nasser', 'FeeNiixZ', 'Supa', 'Aesenar', 'Carbono']\n",
      "['MAD Lions Madrid', '2020 Spring', 'Players', 'WerIyb', 'Koldo', 'Hatrixx', 'Flakked', 'Prime', 'Prime', 'Flakked']\n",
      "['Movistar Riders', '2020 Spring', 'Players', 'Beansu', 'Elyoya', 'Xico', 'Javaaa', 'Rhuckz']\n",
      "['S2V Esports', '2020 Spring', 'Players', 'ACD', 'Nyx', 'Lvsyan', 'Barcode', 'Viketox']\n",
      "['Team Queso', '2020 Spring', 'Players', 'R4VEN', 'Demon', 'Miniduke', 'Rayito', 'Aizhon']\n",
      "['UCAM Esports Club', '2020 Spring', 'Players', 'Aziado', 'Markoon', 'Baca', 'Rafitta', 'Plasma', 'Plasma', 'Rafitta']\n",
      "['Vodafone Giants', '2020 Spring', 'Players', 'Th3Antonio', 'Lamabear', 'Pretty', 'Attila', 'Erdote', 'Erdote', 'Attila']\n",
      "['x6tence', '2020 Spring', 'Players', 'Kackos', 'Jorx', 'Siler', 'Kami', 'DuaLL', 'Universe']\n",
      "['E-Monkeyz Club', '2019 Summer', 'Players', 'Scarface', 'Freshx', 'Lukezy', 'Rayito', 'DuaLL', 'JosemiBiceps', 'Vixzy']\n",
      "['G2 Heretics', '2019 Summer', 'Players', 'Wardain', 'Lamabear', 'Xico', 'Nixerino', 'Trymbi']\n",
      "['Mad Lions E.C', '2019 Summer', 'Players', 'Orome', 'Sharp', 'Pretty', 'Freeze', 'Prime', 'Yoppa', 'Shlatan', 'Czekolad', 'Samux', 'Falco']\n",
      "['Movistar Riders', '2019 Summer', 'Players', 'Beansu', 'styIIEE', 'Miniduke', 'Javaaa', 'Rhuckz']\n",
      "['Origen BCN', '2019 Summer', 'Players', 'Szygenda', 'Zanzarah', 'Roison', 'Venzer', 'Homi']\n",
      "['Penguins', '2019 Summer', 'Players', 'Truklax', 'Cboi', 'Adept', 'Emtest', 'Hadow']\n",
      "['S2V Esports', '2019 Summer', 'Players', 'Oscarinin', 'Jorx', 'Fenixz', 'Rafitta', 'Darko', 'Aziado', 'Carbono', 'Baca', 'Flakked', 'Xixauxas']\n",
      "['Team Queso', '2019 Summer', 'Players', 'Nandisko', 'Speedy', 'V0N', 'Khantos', 'Aizhon', 'HungryPanda']\n",
      "['Vodafone Giants', '2019 Summer', 'Players', 'Th3Antonio', 'Razork', 'Milica', 'Deadly', 'Denyk']\n",
      "['x6tence', '2019 Summer', 'Players', 'fjoompbun', 'Koldo', 'Lvsyan', 'Sanchez', 'kamilius', 'Rafa']\n",
      "['E-Monkeyz Club', '2019 Spring', 'Players', 'Kackos', 'WRDN', 'Czekolad', 'Rayito', 'DuaLL', 'Tasteless']\n",
      "['G2 Heretics', '2019 Spring', 'Players', 'Wardain', 'Lamabear', 'Xico', 'SMILEY', 'Skain']\n",
      "['Mad Lions E.C', '2019 Spring', 'Players', 'Yoppa', 'bluerzor', 'Pretty', 'Samux', 'Falco']\n",
      "['Movistar Riders', '2019 Spring', 'Players', 'iBo', 'TynX', 'Sebekx', 'Nixerino', 'Anthrax']\n",
      "['Origen BCN', '2019 Spring', 'Players', 'Szygenda', 'Zanzarah', 'Roison', 'Venzer', 'Homi', 'Speedy']\n",
      "['Penguins', '2019 Spring', 'Players', 'Aziado', 'Cboi', 'Baca', 'Javaaa', 'Rhuckz', 'StormFury']\n",
      "['S2V Esports', '2019 Spring', 'Players', 'Siler', 'Carbono', 'pÏ€', 'Flakked', 'Xixauxas', 'Nandisko', 'pÏ€', 'Siler', 'pÏ€', 'DuaLL']\n",
      "['Splyce Vipers', '2019 Spring', 'Players', 'Orome', 'Tierwulf', 'Hatrixx', 'Freeze', 'Prime', 'Sharp']\n",
      "['Vodafone Giants', '2019 Spring', 'Players', 'Th3Antonio', 'Razork', 'Milica', 'Deadly', 'Denyk']\n",
      "['x6tence', '2019 Spring', 'Players', 'Brosak', 'Koldo', 'Eren', 'Sanchez', 'Rafa', 'S']\n",
      "['Asus ROG Army', '2018 Summer', 'Players', 'Kaze', 'Kadir', 'Zwyroo', 'Sedrion', 'Prime', 'Lukezy', 'Xixauxas']\n",
      "['Dragons E.C', '2018 Summer', 'Players', 'Sacre', 'Hero', 'Energy', 'Barcode', 'Gaax', 'Vrow', 'Sertuss', 'Homi']\n",
      "['E-Monkeyz Club', '2018 Summer', 'Players', 'Moryo', 'Carbono', 'Sertuss', 'M0NK', 'Tarky', 'DahVys', 'Czekolad', 'Tarky', 'Czekolad', 'M0NK']\n",
      "['KIYF', '2018 Summer', 'Players', 'Orome', 'Aesthetic', 'ZaZee', 'Carzzy', 'Labrov', 'Rufus']\n",
      "['MAD Lions E.C.', '2018 Summer', 'Players', 'WerIyb', 'Selfmade', 'Nemesis', 'Crownie', 'Falco']\n",
      "['Movistar Riders', '2018 Summer', 'Players', 'Finn', 'Cinkrof', 'Hatrixx', 'Jeskla', 'Klaj', 'Xyraz', 'Jeskla', 'Cinkrof', 'Hatrixx']\n",
      "['Penguins', '2018 Summer', 'Players', 'Nandisko', 'DahVys', 'Siler', 'Javaaa', 'Karakal Jr', 'Glebo', 'Ippon']\n",
      "['Vodafone Giants Gaming', '2018 Summer', 'Players', 'Yoppa', 'Razork', 'Kashtelan', 'Deadly', 'Denyk', 'Mystiques']\n",
      "['Asus ROG Army', '2018 Spring', 'Players', 'Kektz', 'Lamabear', 'Pretty', 'Sedrion', 'Anthrax', 'Ripi']\n",
      "['E-Monkeyz Club', '2018 Spring', 'Players', 'Moryo', 'Rafa', 'Ripi', 'M0NK', 'Mako', 'Pretty', 'Tasteless']\n",
      "['G2 Vodafone', '2018 Spring', 'Players', 'Agresivoo', 'Hero', 'Roison', 'Nixerino', 'Homi', 'Yukinon']\n",
      "['KIYF', '2018 Spring', 'Players', 'Scarface', 'Lurox', 'SozPurefect', 'Innaxe', 'Doss', 'Inspired', 'Alcaffee']\n",
      "['MAD Lions E.C.', '2018 Spring', 'Players', 'WerIyb', 'Selfie', 'Nemesis', 'Crownie', 'Falco', 'Selfmade']\n",
      "['Movistar Riders', '2018 Spring', 'Players', 'fjoompbun', 'bluerzor', 'Hatrixx', 'S', 'Treatz', 'Xyraz', 'Cinkrof', 'MagiFelix', 'Jeskla', 'Defles', 'Klaj']\n",
      "['Penguins', '2018 Spring', 'Players', 'Jin', '0bsess', 'Noodle', 'Javaaa', 'Karakal Jr', 'Kronos']\n",
      "['Vodafone Giants Gaming', '2018 Spring', 'Players', 'Yoppa', 'Razork', 'Kashtelan', 'Deadly', 'Mystiques', 'Th3Antonio', 'Th3Antonio']\n"
     ]
    }
   ],
   "source": [
    "for i in range(len(urls)):\n",
    "    \n",
    "    \n",
    "    if contador%2==0:\n",
    "        year-=1\n",
    "    contador +=1\n",
    "    \n",
    "    superliga = pd.concat([superliga,f.scrapeo_equipos_jugadores(urls[i],year,time)], ignore_index=True)\n",
    "\n",
    "\n",
    "    last_time = time\n",
    "    time = future_time\n",
    "    future_time = last_time\n"
   ]
  },
  {
   "cell_type": "code",
   "execution_count": 27,
   "metadata": {},
   "outputs": [],
   "source": [
    "superliga.columns = ['Team','Split','Player 1','Player 2','Player 3','Player 4','Player 5','Player 6','Player 7','Player 8','Player 9','Player 10','Player 11','Player 12']"
   ]
  },
  {
   "cell_type": "code",
   "execution_count": 41,
   "metadata": {},
   "outputs": [],
   "source": [
    "for i in superliga['Team']:\n",
    "    if 'Lions' in i:\n",
    "        superliga.loc[superliga['Team'] == i] = 'Mad Lions Academy'\n",
    "    elif 'KOI' in i:\n",
    "       superliga.loc[superliga['Team'] == i] = 'KOI Academy'\n",
    "    elif 'Giants' in i:\n",
    "       superliga.loc[superliga['Team'] == i] = 'Giants'\n",
    "    elif 'Heretics' in i:\n",
    "       superliga.loc[superliga['Team'] == i] = 'Heretics Academy'\n",
    "    elif 'Monkeyz' in i:\n",
    "       superliga.loc[superliga['Team'] == i] = 'E-monkeyz Club'\n",
    "    elif 'UCAM' in i:\n",
    "       superliga.loc[superliga['Team'] == i] = 'UCAM'"
   ]
  },
  {
   "cell_type": "code",
   "execution_count": 42,
   "metadata": {},
   "outputs": [],
   "source": [
    "Spring2023 = pd.read_csv('../data/2023Spring.csv',encoding='utf-8',encoding_errors= 'ignore')\n",
    "Summer2022 = pd.read_csv('../data/2022Summer.csv',encoding='utf-8',encoding_errors= 'ignore')\n",
    "Spring2022 = pd.read_csv('../data/2022Spring.csv',encoding='utf-8',encoding_errors= 'ignore')\n",
    "Summer2021 = pd.read_csv('../data/2021Summer.csv',encoding='utf-8',encoding_errors= 'ignore')\n",
    "Spring2021 = pd.read_csv('../data/2021Spring.csv',encoding='utf-8',encoding_errors= 'ignore')\n",
    "Summer2020 = pd.read_csv('../data/2020Summer.csv',encoding='utf-8',encoding_errors= 'ignore')\n",
    "Spring2020 = pd.read_csv('../data/2020Spring.csv',encoding='utf-8',encoding_errors= 'ignore')\n",
    "Summer2019 = pd.read_csv('../data/2019Summer.csv',encoding='utf-8',encoding_errors= 'ignore')\n",
    "Spring2019 = pd.read_csv('../data/2019Spring.csv',encoding='utf-8',encoding_errors= 'ignore')\n",
    "Summer2018 = pd.read_csv('../data/2018Summer.csv',encoding='utf-8',encoding_errors= 'ignore')\n",
    "Spring2018 = pd.read_csv('../data/2018Spring.csv',encoding='utf-8',encoding_errors= 'ignore')\n",
    "Summer2017 = pd.read_csv('../data/2017Summer.csv',encoding='utf-8',encoding_errors= 'ignore')\n",
    "Spring2017 = pd.read_csv('../data/2017Spring.csv',encoding='utf-8',encoding_errors= 'ignore')\n",
    "Summer2016 = pd.read_csv('../data/2016Summer.csv',encoding='utf-8',encoding_errors= 'ignore')\n",
    "Spring2016 = pd.read_csv('../data/2016Spring.csv',encoding='utf-8',encoding_errors= 'ignore')\n",
    "Summer2015 = pd.read_csv('../data/2015Summer.csv',encoding='utf-8',encoding_errors= 'ignore')\n",
    "Spring2015 = pd.read_csv('../data/2015Spring.csv',encoding='utf-8',encoding_errors= 'ignore')"
   ]
  },
  {
   "cell_type": "code",
   "execution_count": 43,
   "metadata": {},
   "outputs": [],
   "source": [
    "hist_players = pd.concat([Spring2023,\n",
    "Summer2022,\n",
    "Spring2022,\n",
    "Summer2021,\n",
    "Spring2021,\n",
    "Summer2020,\n",
    "Spring2020,\n",
    "Summer2019,\n",
    "Spring2019,\n",
    "Summer2018,\n",
    "Spring2018,\n",
    "Summer2017,\n",
    "Spring2017,\n",
    "Summer2016,\n",
    "Spring2016,\n",
    "Summer2015,\n",
    "Spring2015],ignore_index=True)"
   ]
  },
  {
   "cell_type": "code",
   "execution_count": 44,
   "metadata": {},
   "outputs": [],
   "source": [
    "hist_players = hist_players.drop(['in',\"i.get_attribute('href')\"],axis = 1)"
   ]
  },
  {
   "cell_type": "code",
   "execution_count": 57,
   "metadata": {},
   "outputs": [
    {
     "ename": "ValueError",
     "evalue": "Length mismatch: Expected axis has 26 elements, new values have 25 elements",
     "output_type": "error",
     "traceback": [
      "\u001b[1;31m---------------------------------------------------------------------------\u001b[0m",
      "\u001b[1;31mValueError\u001b[0m                                Traceback (most recent call last)",
      "Cell \u001b[1;32mIn[57], line 1\u001b[0m\n\u001b[1;32m----> 1\u001b[0m hist_players\u001b[39m.\u001b[39mcolumns \u001b[39m=\u001b[39m [\u001b[39m'\u001b[39m\u001b[39mPlayer\u001b[39m\u001b[39m'\u001b[39m, \u001b[39m'\u001b[39m\u001b[39mCountry\u001b[39m\u001b[39m'\u001b[39m, \u001b[39m'\u001b[39m\u001b[39mGames\u001b[39m\u001b[39m'\u001b[39m, \u001b[39m'\u001b[39m\u001b[39mWin rate\u001b[39m\u001b[39m'\u001b[39m, \u001b[39m'\u001b[39m\u001b[39mKDA\u001b[39m\u001b[39m'\u001b[39m, \u001b[39m'\u001b[39m\u001b[39mAvg kills\u001b[39m\u001b[39m'\u001b[39m,\n\u001b[0;32m      2\u001b[0m        \u001b[39m'\u001b[39m\u001b[39mAvg deaths\u001b[39m\u001b[39m'\u001b[39m, \u001b[39m'\u001b[39m\u001b[39mAvg assists\u001b[39m\u001b[39m'\u001b[39m, \u001b[39m'\u001b[39m\u001b[39mCS-Min\u001b[39m\u001b[39m'\u001b[39m, \u001b[39m'\u001b[39m\u001b[39mGold-Min\u001b[39m\u001b[39m'\u001b[39m, \u001b[39m'\u001b[39m\u001b[39mKP\u001b[39m\u001b[39m%\u001b[39m\u001b[39m'\u001b[39m, \u001b[39m'\u001b[39m\u001b[39mDMG\u001b[39m\u001b[39m%\u001b[39m\u001b[39m'\u001b[39m, \u001b[39m'\u001b[39m\u001b[39mDP-Min\u001b[39m\u001b[39m'\u001b[39m, \u001b[39m'\u001b[39m\u001b[39mVision Puntuation Min\u001b[39m\u001b[39m'\u001b[39m,\n\u001b[0;32m      3\u001b[0m        \u001b[39m'\u001b[39m\u001b[39mAvg Wards Min\u001b[39m\u001b[39m'\u001b[39m, \u001b[39m'\u001b[39m\u001b[39mAvg Wards Cleared Min\u001b[39m\u001b[39m'\u001b[39m, \u001b[39m'\u001b[39m\u001b[39mAvg Vision Wards Min\u001b[39m\u001b[39m'\u001b[39m, \u001b[39m'\u001b[39m\u001b[39mGold Difference Min-15\u001b[39m\u001b[39m'\u001b[39m, \u001b[39m'\u001b[39m\u001b[39mCS Difference Min-15\u001b[39m\u001b[39m'\u001b[39m, \u001b[39m'\u001b[39m\u001b[39mXP Difference Min-15\u001b[39m\u001b[39m'\u001b[39m, \u001b[39m'\u001b[39m\u001b[39mFirst Blood Participation \u001b[39m\u001b[39m%\u001b[39m\u001b[39m'\u001b[39m,\n\u001b[0;32m      4\u001b[0m        \u001b[39m'\u001b[39m\u001b[39mFirst Blood Victim \u001b[39m\u001b[39m%\u001b[39m\u001b[39m'\u001b[39m, \u001b[39m'\u001b[39m\u001b[39mPenta Kills\u001b[39m\u001b[39m'\u001b[39m, \u001b[39m'\u001b[39m\u001b[39mSolo Kills\u001b[39m\u001b[39m'\u001b[39m, \u001b[39m'\u001b[39m\u001b[39mSplit\u001b[39m\u001b[39m'\u001b[39m]\n",
      "File \u001b[1;32mc:\\Users\\pacot\\anaconda3\\lib\\site-packages\\pandas\\core\\generic.py:5915\u001b[0m, in \u001b[0;36mNDFrame.__setattr__\u001b[1;34m(self, name, value)\u001b[0m\n\u001b[0;32m   5913\u001b[0m \u001b[39mtry\u001b[39;00m:\n\u001b[0;32m   5914\u001b[0m     \u001b[39mobject\u001b[39m\u001b[39m.\u001b[39m\u001b[39m__getattribute__\u001b[39m(\u001b[39mself\u001b[39m, name)\n\u001b[1;32m-> 5915\u001b[0m     \u001b[39mreturn\u001b[39;00m \u001b[39mobject\u001b[39;49m\u001b[39m.\u001b[39;49m\u001b[39m__setattr__\u001b[39;49m(\u001b[39mself\u001b[39;49m, name, value)\n\u001b[0;32m   5916\u001b[0m \u001b[39mexcept\u001b[39;00m \u001b[39mAttributeError\u001b[39;00m:\n\u001b[0;32m   5917\u001b[0m     \u001b[39mpass\u001b[39;00m\n",
      "File \u001b[1;32mc:\\Users\\pacot\\anaconda3\\lib\\site-packages\\pandas\\_libs\\properties.pyx:69\u001b[0m, in \u001b[0;36mpandas._libs.properties.AxisProperty.__set__\u001b[1;34m()\u001b[0m\n",
      "File \u001b[1;32mc:\\Users\\pacot\\anaconda3\\lib\\site-packages\\pandas\\core\\generic.py:823\u001b[0m, in \u001b[0;36mNDFrame._set_axis\u001b[1;34m(self, axis, labels)\u001b[0m\n\u001b[0;32m    821\u001b[0m \u001b[39mdef\u001b[39;00m \u001b[39m_set_axis\u001b[39m(\u001b[39mself\u001b[39m, axis: \u001b[39mint\u001b[39m, labels: AnyArrayLike \u001b[39m|\u001b[39m \u001b[39mlist\u001b[39m) \u001b[39m-\u001b[39m\u001b[39m>\u001b[39m \u001b[39mNone\u001b[39;00m:\n\u001b[0;32m    822\u001b[0m     labels \u001b[39m=\u001b[39m ensure_index(labels)\n\u001b[1;32m--> 823\u001b[0m     \u001b[39mself\u001b[39;49m\u001b[39m.\u001b[39;49m_mgr\u001b[39m.\u001b[39;49mset_axis(axis, labels)\n\u001b[0;32m    824\u001b[0m     \u001b[39mself\u001b[39m\u001b[39m.\u001b[39m_clear_item_cache()\n",
      "File \u001b[1;32mc:\\Users\\pacot\\anaconda3\\lib\\site-packages\\pandas\\core\\internals\\managers.py:230\u001b[0m, in \u001b[0;36mBaseBlockManager.set_axis\u001b[1;34m(self, axis, new_labels)\u001b[0m\n\u001b[0;32m    228\u001b[0m \u001b[39mdef\u001b[39;00m \u001b[39mset_axis\u001b[39m(\u001b[39mself\u001b[39m, axis: \u001b[39mint\u001b[39m, new_labels: Index) \u001b[39m-\u001b[39m\u001b[39m>\u001b[39m \u001b[39mNone\u001b[39;00m:\n\u001b[0;32m    229\u001b[0m     \u001b[39m# Caller is responsible for ensuring we have an Index object.\u001b[39;00m\n\u001b[1;32m--> 230\u001b[0m     \u001b[39mself\u001b[39;49m\u001b[39m.\u001b[39;49m_validate_set_axis(axis, new_labels)\n\u001b[0;32m    231\u001b[0m     \u001b[39mself\u001b[39m\u001b[39m.\u001b[39maxes[axis] \u001b[39m=\u001b[39m new_labels\n",
      "File \u001b[1;32mc:\\Users\\pacot\\anaconda3\\lib\\site-packages\\pandas\\core\\internals\\base.py:70\u001b[0m, in \u001b[0;36mDataManager._validate_set_axis\u001b[1;34m(self, axis, new_labels)\u001b[0m\n\u001b[0;32m     67\u001b[0m     \u001b[39mpass\u001b[39;00m\n\u001b[0;32m     69\u001b[0m \u001b[39melif\u001b[39;00m new_len \u001b[39m!=\u001b[39m old_len:\n\u001b[1;32m---> 70\u001b[0m     \u001b[39mraise\u001b[39;00m \u001b[39mValueError\u001b[39;00m(\n\u001b[0;32m     71\u001b[0m         \u001b[39mf\u001b[39m\u001b[39m\"\u001b[39m\u001b[39mLength mismatch: Expected axis has \u001b[39m\u001b[39m{\u001b[39;00mold_len\u001b[39m}\u001b[39;00m\u001b[39m elements, new \u001b[39m\u001b[39m\"\u001b[39m\n\u001b[0;32m     72\u001b[0m         \u001b[39mf\u001b[39m\u001b[39m\"\u001b[39m\u001b[39mvalues have \u001b[39m\u001b[39m{\u001b[39;00mnew_len\u001b[39m}\u001b[39;00m\u001b[39m elements\u001b[39m\u001b[39m\"\u001b[39m\n\u001b[0;32m     73\u001b[0m     )\n",
      "\u001b[1;31mValueError\u001b[0m: Length mismatch: Expected axis has 26 elements, new values have 25 elements"
     ]
    }
   ],
   "source": [
    "hist_players.columns = ['Player', 'Country', 'Games', 'Win rate', 'KDA', 'Avg kills',\n",
    "       'Avg deaths', 'Avg assists', 'CS-Min', 'Gold-Min', 'KP%', 'DMG%', 'DP-Min', 'Vision Puntuation Min',\n",
    "       'Avg Wards Min', 'Avg Wards Cleared Min', 'Avg Vision Wards Min', 'Gold Difference Min-15', 'CS Difference Min-15', 'XP Difference Min-15', 'First Blood Participation %',\n",
    "       'First Blood Victim %', 'Penta Kills', 'Solo Kills', 'Split']"
   ]
  },
  {
   "cell_type": "code",
   "execution_count": 63,
   "metadata": {},
   "outputs": [],
   "source": [
    "hist_players['KDA'] = hist_players['KDA'].apply(f.pasar_a_nan)\n",
    "hist_players['Gold-Min'] = hist_players['Gold-Min'].apply(f.pasar_a_nan)\n",
    "hist_players['KP%'] = hist_players['KP%'].apply(f.pasar_a_nan)\n",
    "hist_players['DMG%'] = hist_players['DMG%'].apply(f.pasar_a_nan)\n",
    "hist_players['DP-Min'] = hist_players['DP-Min'].apply(f.pasar_a_nan)\n",
    "hist_players['Vision Puntuation Min'] = hist_players['Vision Puntuation Min'].apply(f.pasar_a_nan)\n",
    "hist_players['Avg Wards Min'] = hist_players['Avg Wards Min'].apply(f.pasar_a_nan)\n",
    "hist_players['Avg Wards Cleared Min'] = hist_players['Avg Wards Cleared Min'].apply(f.pasar_a_nan)\n",
    "hist_players['Avg Vision Wards Min'] = hist_players['Avg Vision Wards Min'].apply(f.pasar_a_nan)\n",
    "hist_players['Gold Difference Min-15'] = hist_players['Gold Difference Min-15'].apply(f.pasar_a_nan)\n",
    "hist_players['CS Difference Min-15'] = hist_players['CS Difference Min-15'].apply(f.pasar_a_nan)\n",
    "hist_players['XP Difference Min-15'] = hist_players['XP Difference Min-15'].apply(f.pasar_a_nan)\n",
    "hist_players['First Blood Participation %'] = hist_players['First Blood Participation %'].apply(f.pasar_a_nan)\n",
    "hist_players['First Blood Victim %'] = hist_players['First Blood Victim %'].apply(f.pasar_a_nan)\n",
    "hist_players['Penta Kills'] = hist_players['Penta Kills'].apply(f.pasar_a_nan)\n",
    "hist_players['Solo Kills'] = hist_players['Solo Kills'].apply(f.pasar_a_nan)"
   ]
  },
  {
   "cell_type": "code",
   "execution_count": 59,
   "metadata": {},
   "outputs": [],
   "source": [
    "hist_players['Win rate'] = hist_players['Win rate'].apply(f.limpiar_simbolo)\n",
    "hist_players['KP%'] = hist_players['KP%'].apply(f.limpiar_simbolo)\n",
    "hist_players['First Blood Participation %'] = hist_players['First Blood Participation %'].apply(f.limpiar_simbolo)\n",
    "hist_players['First Blood Victim %'] = hist_players['First Blood Victim %'].apply(f.limpiar_simbolo)"
   ]
  },
  {
   "cell_type": "code",
   "execution_count": 60,
   "metadata": {},
   "outputs": [],
   "source": [
    "hist_players['KDA'] = hist_players['KDA'].astype(float)\n",
    "hist_players['Gold-Min'] = hist_players['Gold-Min'].astype(float)\n",
    "hist_players['KP%'] = hist_players['KP%'].astype(float)\n",
    "hist_players['DMG%'] = hist_players['DMG%'].astype(float)\n",
    "hist_players['DP-Min'] = hist_players['DP-Min'].astype(float)\n",
    "hist_players['Vision Puntuation Min'] = hist_players['Vision Puntuation Min'].astype(float)\n",
    "hist_players['Avg Wards Min'] = hist_players['Avg Wards Min'].astype(float)\n",
    "hist_players['Avg Wards Cleared Min'] = hist_players['Avg Wards Cleared Min'].astype(float)\n",
    "hist_players['Avg Vision Wards Min'] = hist_players['Avg Vision Wards Min'].astype(float)\n",
    "hist_players['Gold Difference Min-15'] = hist_players['Gold Difference Min-15'].astype(float)\n",
    "hist_players['CS Difference Min-15'] = hist_players['CS Difference Min-15'].astype(float)\n",
    "hist_players['XP Difference Min-15'] = hist_players['XP Difference Min-15'].astype(float)\n",
    "hist_players['First Blood Participation %'] = hist_players['First Blood Participation %'].astype(float)\n",
    "hist_players['First Blood Victim %'] = hist_players['First Blood Victim %'].astype(float)\n",
    "hist_players['Penta Kills'] = hist_players['Penta Kills'].astype(float)\n",
    "hist_players['Solo Kills'] = hist_players['Solo Kills'].astype(float)"
   ]
  },
  {
   "cell_type": "code",
   "execution_count": 50,
   "metadata": {},
   "outputs": [],
   "source": [
    "hist_players['Team'] = np.nan"
   ]
  },
  {
   "cell_type": "code",
   "execution_count": 51,
   "metadata": {},
   "outputs": [],
   "source": [
    "\n",
    "for i in range(12):\n",
    "    for p in range(len(superliga[f'Player {i+1}'])):\n",
    "        for j in range(len(hist_players['Player'])):\n",
    "            if superliga[f'Player {i+1}'][p] == hist_players['Player'][j] and superliga['Split'][p] == hist_players['Split'][j]:\n",
    "                hist_players['Team'][j] = superliga['Team'][p]\n",
    "\n",
    "\n",
    "\n"
   ]
  },
  {
   "cell_type": "code",
   "execution_count": 61,
   "metadata": {},
   "outputs": [],
   "source": [
    "hist_players.to_csv('../Data/Mestra.csv', index=False)"
   ]
  },
  {
   "cell_type": "code",
   "execution_count": 100,
   "metadata": {},
   "outputs": [],
   "source": [
    "teams = pd.DataFrame()\n",
    "teams['name'] = pd.unique(hist_players['Team'])\n",
    "teams = teams.drop(0)"
   ]
  },
  {
   "cell_type": "code",
   "execution_count": 101,
   "metadata": {},
   "outputs": [],
   "source": [
    "teams['team_id'] = teams.index\n",
    "teams = teams.reindex(['team_id','name'],axis=1)\n"
   ]
  },
  {
   "cell_type": "code",
   "execution_count": 103,
   "metadata": {},
   "outputs": [],
   "source": [
    "teams = teams.reset_index(drop=True)"
   ]
  },
  {
   "cell_type": "code",
   "execution_count": 112,
   "metadata": {},
   "outputs": [],
   "source": [
    "split = pd.DataFrame()\n",
    "split['temp'] = pd.unique(hist_players['Split'])"
   ]
  },
  {
   "cell_type": "code",
   "execution_count": 113,
   "metadata": {},
   "outputs": [],
   "source": [
    "split['split_id'] = split.index +1\n",
    "split = split.reindex(['split_id','temp'],axis=1)\n",
    "split = split.reset_index(drop=True)"
   ]
  },
  {
   "cell_type": "code",
   "execution_count": 115,
   "metadata": {},
   "outputs": [],
   "source": [
    "split['year'] = 0\n",
    "split['split'] = ''"
   ]
  },
  {
   "cell_type": "code",
   "execution_count": 119,
   "metadata": {},
   "outputs": [],
   "source": [
    "for i in range(len(split['temp'])):\n",
    "    split['year'][i] = split['temp'][i].split()[0]\n",
    "    split['split'][i] = split['temp'][i].split()[1]"
   ]
  },
  {
   "cell_type": "code",
   "execution_count": 121,
   "metadata": {},
   "outputs": [],
   "source": [
    "split = split .drop('temp',axis=1)"
   ]
  },
  {
   "cell_type": "code",
   "execution_count": 122,
   "metadata": {},
   "outputs": [
    {
     "data": {
      "text/html": [
       "<div>\n",
       "<style scoped>\n",
       "    .dataframe tbody tr th:only-of-type {\n",
       "        vertical-align: middle;\n",
       "    }\n",
       "\n",
       "    .dataframe tbody tr th {\n",
       "        vertical-align: top;\n",
       "    }\n",
       "\n",
       "    .dataframe thead th {\n",
       "        text-align: right;\n",
       "    }\n",
       "</style>\n",
       "<table border=\"1\" class=\"dataframe\">\n",
       "  <thead>\n",
       "    <tr style=\"text-align: right;\">\n",
       "      <th></th>\n",
       "      <th>split_id</th>\n",
       "      <th>year</th>\n",
       "      <th>split</th>\n",
       "    </tr>\n",
       "  </thead>\n",
       "  <tbody>\n",
       "    <tr>\n",
       "      <th>0</th>\n",
       "      <td>1</td>\n",
       "      <td>2023</td>\n",
       "      <td>Spring</td>\n",
       "    </tr>\n",
       "    <tr>\n",
       "      <th>1</th>\n",
       "      <td>2</td>\n",
       "      <td>2022</td>\n",
       "      <td>Summer</td>\n",
       "    </tr>\n",
       "    <tr>\n",
       "      <th>2</th>\n",
       "      <td>3</td>\n",
       "      <td>2022</td>\n",
       "      <td>Spring</td>\n",
       "    </tr>\n",
       "    <tr>\n",
       "      <th>3</th>\n",
       "      <td>4</td>\n",
       "      <td>2021</td>\n",
       "      <td>Summer</td>\n",
       "    </tr>\n",
       "    <tr>\n",
       "      <th>4</th>\n",
       "      <td>5</td>\n",
       "      <td>2021</td>\n",
       "      <td>Spring</td>\n",
       "    </tr>\n",
       "  </tbody>\n",
       "</table>\n",
       "</div>"
      ],
      "text/plain": [
       "   split_id  year   split\n",
       "0         1  2023  Spring\n",
       "1         2  2022  Summer\n",
       "2         3  2022  Spring\n",
       "3         4  2021  Summer\n",
       "4         5  2021  Spring"
      ]
     },
     "execution_count": 122,
     "metadata": {},
     "output_type": "execute_result"
    }
   ],
   "source": [
    "split.head()"
   ]
  }
 ],
 "metadata": {
  "kernelspec": {
   "display_name": "base",
   "language": "python",
   "name": "python3"
  },
  "language_info": {
   "codemirror_mode": {
    "name": "ipython",
    "version": 3
   },
   "file_extension": ".py",
   "mimetype": "text/x-python",
   "name": "python",
   "nbconvert_exporter": "python",
   "pygments_lexer": "ipython3",
   "version": "3.10.9"
  },
  "orig_nbformat": 4
 },
 "nbformat": 4,
 "nbformat_minor": 2
}
