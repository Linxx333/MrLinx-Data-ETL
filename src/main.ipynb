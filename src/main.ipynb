{
 "cells": [
  {
   "cell_type": "code",
   "execution_count": 1,
   "metadata": {},
   "outputs": [],
   "source": [
    "import pandas as pd\n",
    "import numpy as np\n",
    "import mysql.connector as conn\n",
    "import functions as f\n",
    "from sqlalchemy import create_engine"
   ]
  },
  {
   "cell_type": "code",
   "execution_count": 2,
   "metadata": {},
   "outputs": [],
   "source": [
    "urls = ['https://gol.gg/teams/list/season-ALL/split-ALL/tournament-SuperLiga%20Spring%202023/',\n",
    "        'https://gol.gg/teams/list/season-ALL/split-ALL/tournament-LVP%20SL%20Summer%202022/',       \n",
    "        'https://gol.gg/teams/list/season-ALL/split-ALL/tournament-LVP%20SL%20Spring%202022/',\n",
    "        'https://gol.gg/teams/list/season-ALL/split-ALL/tournament-LVP%20SL%20Summer%202021/',\n",
    "        'https://gol.gg/teams/list/season-ALL/split-ALL/tournament-LVP%20Superliga%20Spring%202021/',\n",
    "        'https://gol.gg/teams/list/season-ALL/split-ALL/tournament-LVP%20SLO%20Summer%202020/',\n",
    "        'https://gol.gg/teams/list/season-ALL/split-ALL/tournament-LVP%20SLO%20Spring%202020/',\n",
    "        'https://gol.gg/teams/list/season-ALL/split-ALL/tournament-LVP%20SLO%20Summer%202019/',\n",
    "        'https://gol.gg/teams/list/season-ALL/split-ALL/tournament-LVP%20SLO%20Spring%202019/',\n",
    "        'https://gol.gg/teams/list/season-ALL/split-ALL/tournament-LVP%20Summer%202018/',\n",
    "        'https://gol.gg/teams/list/season-ALL/split-ALL/tournament-LVP%20Spring%202018/']\n",
    "\n",
    "time = 'Spring'\n",
    "future_time= 'Summer'\n",
    "last_time = 'Summer'\n",
    "year = 2023\n",
    "contador = 1\n",
    "\n",
    "superliga = pd.DataFrame()"
   ]
  },
  {
   "cell_type": "code",
   "execution_count": 3,
   "metadata": {},
   "outputs": [],
   "source": [
    "for i in range(len(urls)):\n",
    "    \n",
    "    \n",
    "    if contador%2==0:\n",
    "        year-=1\n",
    "    contador +=1\n",
    "    \n",
    "    superliga = pd.concat([superliga,f.scrapeo_equipos_jugadores(urls[i],year,time)], ignore_index=True)\n",
    "\n",
    "\n",
    "    last_time = time\n",
    "    time = future_time\n",
    "    future_time = last_time\n"
   ]
  },
  {
   "cell_type": "code",
   "execution_count": 9,
   "metadata": {},
   "outputs": [],
   "source": [
    "superliga.columns = ['Team','Player 1','Player 2','Player 3','Player 4','Player 5','Player 6','Player 7','Player 8','Player 9','Player 10','Player 11','Player 12','Player 13']"
   ]
  },
  {
   "cell_type": "code",
   "execution_count": null,
   "metadata": {},
   "outputs": [],
   "source": []
  }
 ],
 "metadata": {
  "kernelspec": {
   "display_name": "base",
   "language": "python",
   "name": "python3"
  },
  "language_info": {
   "codemirror_mode": {
    "name": "ipython",
    "version": 3
   },
   "file_extension": ".py",
   "mimetype": "text/x-python",
   "name": "python",
   "nbconvert_exporter": "python",
   "pygments_lexer": "ipython3",
   "version": "3.10.9"
  },
  "orig_nbformat": 4
 },
 "nbformat": 4,
 "nbformat_minor": 2
}
